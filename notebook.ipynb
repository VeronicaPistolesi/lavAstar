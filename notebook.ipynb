{
 "cells": [
  {
   "cell_type": "code",
   "execution_count": null,
   "metadata": {},
   "outputs": [],
   "source": [
    "#!pip install pandas"
   ]
  },
  {
   "cell_type": "code",
   "execution_count": null,
   "metadata": {},
   "outputs": [],
   "source": [
    "# Importations\n",
    "import gym\n",
    "import minihack\n",
    "import numpy as np\n",
    "import matplotlib.pyplot as plt\n",
    "import math\n",
    "import time\n",
    "import pandas as pd\n",
    "\n",
    "from algorithms import *\n",
    "from classes import *\n",
    "from utils import *\n",
    "from env_levels import *"
   ]
  },
  {
   "cell_type": "code",
   "execution_count": null,
   "metadata": {},
   "outputs": [],
   "source": [
    "env_lv1 = gym.make(\n",
    "    \"MiniHack-Navigation-Custom-v0\",\n",
    "    des_file=des_file_static_lv1,\n",
    "    #max_episode_steps=50,\n",
    "    observation_keys =(\"chars\", \"colors\", \"specials\", \"pixel\")\n",
    ")\n",
    "\n",
    "env_lv1.seed(42)\n",
    "obs_lv1 = env_lv1.reset() #each reset generates a new environment instance\n",
    "env_lv1.render()"
   ]
  }
 ],
 "metadata": {
  "language_info": {
   "name": "python"
  }
 },
 "nbformat": 4,
 "nbformat_minor": 2
}
