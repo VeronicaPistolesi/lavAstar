{
 "cells": [
  {
   "cell_type": "markdown",
   "metadata": {},
   "source": [
    "# Our Hypothesis: A* finds always the 'ShortBest' path!\n",
    "\n",
    "Let's see, if this is true ..."
   ]
  },
  {
   "cell_type": "code",
   "execution_count": null,
   "metadata": {},
   "outputs": [],
   "source": [
    "#!pip install pandas"
   ]
  },
  {
   "cell_type": "code",
   "execution_count": null,
   "metadata": {},
   "outputs": [],
   "source": [
    "# Importations\n",
    "import gym\n",
    "import minihack\n",
    "import numpy as np\n",
    "import matplotlib.pyplot as plt\n",
    "import math\n",
    "import time\n",
    "import pandas as pd\n",
    "\n",
    "from algorithms import *\n",
    "from classes import *\n",
    "from utils import *\n",
    "from env_levels import *"
   ]
  },
  {
   "cell_type": "markdown",
   "metadata": {},
   "source": [
    "# Our Static Environment\n",
    "\n",
    "We've developed a custom environment using the **Minihack level editor** to gain precise control over our work. The environment we're working on is a 15x15 **fully observable maze**, where the agent navigates through the grid while avoiding hazardous **lava pools**.\n",
    "\n",
    "The agent starts in the *top left corner* and needs to find the stairs in the *bottom right corner* while avoiding lava pools. \n",
    "\n",
    "Inside *env_levels.py* there is the *'.des-file'*:\n",
    "\n",
    "* Agent: '@'\n",
    "* Target: '>'\n",
    "* Floor tile: '.'\n",
    "* Walls: '-' and '|'\n",
    "* Lava pools: 'L'\n",
    "\n",
    "> As part of our exploration, we're committed to introducing and navigating through **various levels of complexity**. This initiative allows us to test and implement different search algorithms tailored to the evolving challenges presented by each level. This dynamic approach not only showcases the adaptability of our agent but also facilitates a comprehensive evaluation of its problem-solving capabilities across diverse scenarios.\n",
    "\n",
    "For now, we: \n",
    "* initialize the specific map configuration\n",
    "* set a random seed for reproducibility\n",
    "* reset the environment to get the initial observation\n",
    "* render the environment for visual representation"
   ]
  },
  {
   "cell_type": "code",
   "execution_count": null,
   "metadata": {},
   "outputs": [],
   "source": [
    "env_lv1 = gym.make(\n",
    "    \"MiniHack-Navigation-Custom-v0\",\n",
    "    des_file=des_file_static_lv1,\n",
    "    #max_episode_steps=50,\n",
    "    observation_keys =(\"chars\", \"colors\", \"specials\", \"pixel\")\n",
    ")\n",
    "\n",
    "env_lv1.seed(42)\n",
    "obs_lv1 = env_lv1.reset() #each reset generates a new environment instance\n",
    "env_lv1.render()"
   ]
  },
  {
   "cell_type": "code",
   "execution_count": null,
   "metadata": {},
   "outputs": [],
   "source": [
    "plt.imshow(obs_lv1['pixel'][45:290, 0:250]) #Plots directly from minihack generator"
   ]
  },
  {
   "cell_type": "code",
   "execution_count": null,
   "metadata": {},
   "outputs": [],
   "source": [
    "game = obs_lv1['pixel']"
   ]
  },
  {
   "cell_type": "code",
   "execution_count": null,
   "metadata": {},
   "outputs": [],
   "source": [
    "comparison_case1 = []\n",
    "comparison_case2 = []\n",
    "comparison_case3 = []\n",
    "algorithms = ['Breadth First Search (UA)', 'Uniform Cost Search (UA)', 'A* (IA)', 'Greedy Best First Search (IA)']\n",
    "time_case1 = []\n",
    "path_case1 = []\n",
    "time_case2 = []\n",
    "path_case2 = []\n",
    "time_case3 = []\n",
    "path_case3 = []"
   ]
  },
  {
   "cell_type": "code",
   "execution_count": null,
   "metadata": {},
   "outputs": [],
   "source": [
    "game_map_lv1 = process_matrix(obs_lv1['chars'])\n",
    "print(game_map_lv1)"
   ]
  },
  {
   "cell_type": "code",
   "execution_count": null,
   "metadata": {},
   "outputs": [],
   "source": [
    "process_matrix(obs_lv1['colors'])\n",
    "# 6 -> blue\n",
    "# 1 -> red\n",
    "game_map_lv1_colors = process_matrix(obs_lv1['colors'])"
   ]
  }
 ],
 "metadata": {
  "language_info": {
   "name": "python"
  }
 },
 "nbformat": 4,
 "nbformat_minor": 2
}
